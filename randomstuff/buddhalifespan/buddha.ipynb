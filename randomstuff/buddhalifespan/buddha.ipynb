{
 "cells": [
  {
   "cell_type": "code",
   "execution_count": 19,
   "metadata": {},
   "outputs": [],
   "source": [
    "import pandas as pd\n",
    "import numpy as np\n",
    "import sys\n",
    "import os"
   ]
  },
  {
   "cell_type": "code",
   "execution_count": 57,
   "metadata": {},
   "outputs": [
    {
     "name": "stdout",
     "output_type": "stream",
     "text": [
      "/Users/damiankozakiewicz/PythonProjects/randomstuff/buddhalifespan/data_buddha.csv\n"
     ]
    }
   ],
   "source": [
    "path = os.path.join(sys.path[0], \"data_buddha.csv\")\n",
    "print(path)"
   ]
  },
  {
   "cell_type": "code",
   "execution_count": 58,
   "metadata": {},
   "outputs": [
    {
     "data": {
      "text/plain": [
       "<bound method NDFrame.head of      Lifespan\n",
       "0   1391-1474\n",
       "1   1475-1542\n",
       "2   1543-1588\n",
       "3   1589-1617\n",
       "4   1617-1682\n",
       "5   1682-1706\n",
       "6   1708-1757\n",
       "7   1758-1804\n",
       "8   1805-1815\n",
       "9   1816-1837\n",
       "10  1838-1856\n",
       "11  1856-1875\n",
       "12  1876-1933\n",
       "13  1935-2022>"
      ]
     },
     "execution_count": 58,
     "metadata": {},
     "output_type": "execute_result"
    }
   ],
   "source": [
    "df = pd.read_csv(path, sep=\";\")\n",
    "df = df.drop(\"Order\", axis=1)\n",
    "df.head"
   ]
  },
  {
   "cell_type": "code",
   "execution_count": 73,
   "metadata": {},
   "outputs": [
    {
     "data": {
      "text/html": [
       "<div>\n",
       "<style scoped>\n",
       "    .dataframe tbody tr th:only-of-type {\n",
       "        vertical-align: middle;\n",
       "    }\n",
       "\n",
       "    .dataframe tbody tr th {\n",
       "        vertical-align: top;\n",
       "    }\n",
       "\n",
       "    .dataframe thead th {\n",
       "        text-align: right;\n",
       "    }\n",
       "</style>\n",
       "<table border=\"1\" class=\"dataframe\">\n",
       "  <thead>\n",
       "    <tr style=\"text-align: right;\">\n",
       "      <th></th>\n",
       "      <th>lifespan</th>\n",
       "    </tr>\n",
       "  </thead>\n",
       "  <tbody>\n",
       "    <tr>\n",
       "      <th>0</th>\n",
       "      <td>[1391, 1474]</td>\n",
       "    </tr>\n",
       "    <tr>\n",
       "      <th>1</th>\n",
       "      <td>[1475, 1542]</td>\n",
       "    </tr>\n",
       "    <tr>\n",
       "      <th>2</th>\n",
       "      <td>[1543, 1588]</td>\n",
       "    </tr>\n",
       "    <tr>\n",
       "      <th>3</th>\n",
       "      <td>[1589, 1617]</td>\n",
       "    </tr>\n",
       "    <tr>\n",
       "      <th>4</th>\n",
       "      <td>[1617, 1682]</td>\n",
       "    </tr>\n",
       "    <tr>\n",
       "      <th>5</th>\n",
       "      <td>[1682, 1706]</td>\n",
       "    </tr>\n",
       "    <tr>\n",
       "      <th>6</th>\n",
       "      <td>[1708, 1757]</td>\n",
       "    </tr>\n",
       "    <tr>\n",
       "      <th>7</th>\n",
       "      <td>[1758, 1804]</td>\n",
       "    </tr>\n",
       "    <tr>\n",
       "      <th>8</th>\n",
       "      <td>[1805, 1815]</td>\n",
       "    </tr>\n",
       "    <tr>\n",
       "      <th>9</th>\n",
       "      <td>[1816, 1837]</td>\n",
       "    </tr>\n",
       "    <tr>\n",
       "      <th>10</th>\n",
       "      <td>[1838, 1856]</td>\n",
       "    </tr>\n",
       "    <tr>\n",
       "      <th>11</th>\n",
       "      <td>[1856, 1875]</td>\n",
       "    </tr>\n",
       "    <tr>\n",
       "      <th>12</th>\n",
       "      <td>[1876, 1933]</td>\n",
       "    </tr>\n",
       "    <tr>\n",
       "      <th>13</th>\n",
       "      <td>[1935, 2022]</td>\n",
       "    </tr>\n",
       "  </tbody>\n",
       "</table>\n",
       "</div>"
      ],
      "text/plain": [
       "        lifespan\n",
       "0   [1391, 1474]\n",
       "1   [1475, 1542]\n",
       "2   [1543, 1588]\n",
       "3   [1589, 1617]\n",
       "4   [1617, 1682]\n",
       "5   [1682, 1706]\n",
       "6   [1708, 1757]\n",
       "7   [1758, 1804]\n",
       "8   [1805, 1815]\n",
       "9   [1816, 1837]\n",
       "10  [1838, 1856]\n",
       "11  [1856, 1875]\n",
       "12  [1876, 1933]\n",
       "13  [1935, 2022]"
      ]
     },
     "execution_count": 73,
     "metadata": {},
     "output_type": "execute_result"
    }
   ],
   "source": [
    "df[\"lifespan\"]= df[\"Lifespan\"].str.split(\"-\", 1)\n",
    "df = df.drop(\"Lifespan\", axis=1)\n",
    "df"
   ]
  },
  {
   "cell_type": "code",
   "execution_count": 101,
   "metadata": {},
   "outputs": [
    {
     "name": "stdout",
     "output_type": "stream",
     "text": [
      "['1391', '1474']\n",
      "['1475', '1542']\n",
      "['1543', '1588']\n",
      "['1589', '1617']\n",
      "['1617', '1682']\n",
      "['1682', '1706']\n",
      "['1708', '1757']\n",
      "['1758', '1804']\n",
      "['1805', '1815']\n",
      "['1816', '1837']\n",
      "['1838', '1856']\n",
      "['1856', '1875']\n",
      "['1876', '1933']\n",
      "['1935', '2022']\n"
     ]
    }
   ],
   "source": [
    "for lifespan in df.lifespan:\n",
    "    print(lifespan)\n",
    "    df[\"born\"], df[\"died\"] = lifespan"
   ]
  },
  {
   "cell_type": "code",
   "execution_count": null,
   "metadata": {},
   "outputs": [],
   "source": []
  }
 ],
 "metadata": {
  "interpreter": {
   "hash": "1baa0473bb62ba5c1e4d14be71121c0904d1bae401dca80920dee881dd1780ae"
  },
  "kernelspec": {
   "display_name": "Python 3.10.0 ('venv': venv)",
   "language": "python",
   "name": "python3"
  },
  "language_info": {
   "codemirror_mode": {
    "name": "ipython",
    "version": 3
   },
   "file_extension": ".py",
   "mimetype": "text/x-python",
   "name": "python",
   "nbconvert_exporter": "python",
   "pygments_lexer": "ipython3",
   "version": "3.10.0"
  },
  "orig_nbformat": 4
 },
 "nbformat": 4,
 "nbformat_minor": 2
}
